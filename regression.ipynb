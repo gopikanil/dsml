{
  "nbformat": 4,
  "nbformat_minor": 0,
  "metadata": {
    "colab": {
      "provenance": [],
      "authorship_tag": "ABX9TyM0cG3b++TV/0bFJLoSqdck",
      "include_colab_link": true
    },
    "kernelspec": {
      "name": "python3",
      "display_name": "Python 3"
    },
    "language_info": {
      "name": "python"
    }
  },
  "cells": [
    {
      "cell_type": "markdown",
      "metadata": {
        "id": "view-in-github",
        "colab_type": "text"
      },
      "source": [
        "<a href=\"https://colab.research.google.com/github/gopikanil/dsml/blob/main/regression.ipynb\" target=\"_parent\"><img src=\"https://colab.research.google.com/assets/colab-badge.svg\" alt=\"Open In Colab\"/></a>"
      ]
    },
    {
      "cell_type": "code",
      "execution_count": 1,
      "metadata": {
        "id": "hci3WAyMv_61"
      },
      "outputs": [],
      "source": [
        "from sklearn.linear_model import LinearRegression\n",
        "from sklearn.model_selection import train_test_split\n",
        "from sklearn.metrics import r2_score,mean_absolute_error,mean_squared_error\n",
        "import matplotlib.pyplot as plt"
      ]
    },
    {
      "cell_type": "code",
      "source": [
        "from sklearn.datasets import load_iris\n",
        "from sklearn.metrics import accuracy_score\n",
        "\n",
        "# Reading the Iris.csv file\n",
        "iris = load_iris()"
      ],
      "metadata": {
        "id": "-5T4ERUQwIul"
      },
      "execution_count": 2,
      "outputs": []
    },
    {
      "cell_type": "code",
      "source": [
        "y=iris.target\n",
        "x=iris.data"
      ],
      "metadata": {
        "id": "MTSuH9vYwMLD"
      },
      "execution_count": 3,
      "outputs": []
    },
    {
      "cell_type": "code",
      "source": [
        "x_train,x_test,y_train,y_test=train_test_split(x,y,test_size=0.4,random_state=101)\n",
        "clf=LinearRegression()\n",
        "clf.fit(x_train,y_train)"
      ],
      "metadata": {
        "colab": {
          "base_uri": "https://localhost:8080/"
        },
        "id": "7tTiMcyzwQMK",
        "outputId": "6657c895-ae8c-4130-e958-4b34c06e5021"
      },
      "execution_count": 4,
      "outputs": [
        {
          "output_type": "execute_result",
          "data": {
            "text/plain": [
              "LinearRegression()"
            ]
          },
          "metadata": {},
          "execution_count": 4
        }
      ]
    },
    {
      "cell_type": "code",
      "source": [
        "y_pred=clf.predict(x_test)\n",
        "y_pred"
      ],
      "metadata": {
        "colab": {
          "base_uri": "https://localhost:8080/"
        },
        "id": "s07HmJrUwVlT",
        "outputId": "499116d9-6ba9-4088-d211-601de8785e01"
      },
      "execution_count": 5,
      "outputs": [
        {
          "output_type": "execute_result",
          "data": {
            "text/plain": [
              "array([-1.82005490e-01, -1.73640745e-02,  2.44852453e-01,  1.52859194e+00,\n",
              "        1.20130940e+00,  1.62007926e+00,  1.40751724e+00,  1.22457535e+00,\n",
              "        1.72881726e+00, -5.33043993e-03,  1.76143721e+00, -2.03368818e-01,\n",
              "        7.09794259e-02,  1.94228548e+00,  1.60082788e+00,  1.14231285e+00,\n",
              "        1.15557655e+00,  1.17588410e+00, -8.32427749e-03,  1.47873408e+00,\n",
              "        1.04058923e+00, -9.56869975e-02,  1.18599163e+00,  1.18503991e+00,\n",
              "        1.15655135e+00,  1.08542227e+00,  9.35883319e-01,  2.09792664e+00,\n",
              "        2.00773361e-02,  1.55174015e-01,  1.99931409e+00,  1.20224876e+00,\n",
              "        1.66993196e+00,  1.07215300e+00,  1.85901789e+00,  1.23583794e+00,\n",
              "        1.30397835e+00,  1.29077810e+00,  1.20532995e+00,  2.03282149e+00,\n",
              "        5.88473025e-02, -1.16006505e-01,  1.91085070e-02,  1.50422798e+00,\n",
              "        1.36092640e+00, -8.15533620e-02,  1.90271419e+00,  9.64384234e-01,\n",
              "       -2.30219590e-04,  9.27794831e-01,  1.03857020e+00,  2.06175406e-01,\n",
              "        1.75835045e+00, -7.94294586e-02,  9.31839278e-01,  1.76030047e+00,\n",
              "        1.09957981e+00, -1.42458102e-01, -4.79586086e-02,  1.27144575e+00])"
            ]
          },
          "metadata": {},
          "execution_count": 5
        }
      ]
    }
  ]
}