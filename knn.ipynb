{
  "nbformat": 4,
  "nbformat_minor": 0,
  "metadata": {
    "colab": {
      "provenance": [],
      "include_colab_link": true
    },
    "kernelspec": {
      "name": "python3",
      "display_name": "Python 3"
    },
    "language_info": {
      "name": "python"
    }
  },
  "cells": [
    {
      "cell_type": "markdown",
      "metadata": {
        "id": "view-in-github",
        "colab_type": "text"
      },
      "source": [
        "<a href=\"https://colab.research.google.com/github/gopikanil/dsml/blob/main/knn.ipynb\" target=\"_parent\"><img src=\"https://colab.research.google.com/assets/colab-badge.svg\" alt=\"Open In Colab\"/></a>"
      ]
    },
    {
      "cell_type": "code",
      "execution_count": null,
      "metadata": {
        "colab": {
          "base_uri": "https://localhost:8080/"
        },
        "id": "KiyR_MQ5rdLA",
        "outputId": "1f7c987e-7f6c-4b51-ad18-670dcb229691"
      },
      "outputs": [
        {
          "output_type": "stream",
          "name": "stdout",
          "text": [
            "Accuracy :  1.0\n",
            "['versicolor']\n"
          ]
        }
      ],
      "source": [
        "from sklearn.datasets import load_iris\n",
        "from sklearn.model_selection import train_test_split\n",
        "from sklearn.neighbors import KNeighborsClassifier\n",
        "from sklearn import metrics\n",
        "\n",
        "iris = load_iris()\n",
        "x = iris.data\n",
        "y = iris.target\n",
        "x_train,x_test,y_train,y_test = train_test_split(x,y,test_size=0.3,random_state=2)\n",
        "c_knn = KNeighborsClassifier(n_neighbors=3)\n",
        "c_knn.fit(x_train,y_train)\n",
        "y_pred = c_knn.predict(x_test)\n",
        "print(\"Accuracy : \",metrics.accuracy_score(y_test,y_pred))\n",
        "sample = [[7.9,3.6,4.5,2.4]]\n",
        "pred = c_knn.predict(sample)\n",
        "pred_v = [iris.target_names[p] for p in pred]\n",
        "print(pred_v)"
      ]
    },
    {
      "cell_type": "code",
      "source": [],
      "metadata": {
        "id": "gHMdkSC7rnQv"
      },
      "execution_count": null,
      "outputs": []
    }
  ]
}