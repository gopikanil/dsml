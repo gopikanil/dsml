{
  "nbformat": 4,
  "nbformat_minor": 0,
  "metadata": {
    "colab": {
      "provenance": [],
      "authorship_tag": "ABX9TyN2ohji1UGpcUnmuV+c0mc8",
      "include_colab_link": true
    },
    "kernelspec": {
      "name": "python3",
      "display_name": "Python 3"
    },
    "language_info": {
      "name": "python"
    }
  },
  "cells": [
    {
      "cell_type": "markdown",
      "metadata": {
        "id": "view-in-github",
        "colab_type": "text"
      },
      "source": [
        "<a href=\"https://colab.research.google.com/github/gopikanil/dsml/blob/main/pgm1_perceptron.ipynb\" target=\"_parent\"><img src=\"https://colab.research.google.com/assets/colab-badge.svg\" alt=\"Open In Colab\"/></a>"
      ]
    },
    {
      "cell_type": "code",
      "execution_count": 1,
      "metadata": {
        "colab": {
          "base_uri": "https://localhost:8080/"
        },
        "id": "M2cPVvf_zefI",
        "outputId": "a56547cd-e804-4991-d173-ce495e796467"
      },
      "outputs": [
        {
          "output_type": "stream",
          "name": "stdout",
          "text": [
            "['Blue' 'Red']\n"
          ]
        }
      ],
      "source": [
        "#pgm1-perceptron\n",
        "from sklearn.linear_model import Perceptron\n",
        "x=[[1,0],[1,1],[2,1]]\n",
        "y=[\"Red\",\"Blue\",\"Red\"]\n",
        "ml=Perceptron()\n",
        "ml=ml.fit(x,y)\n",
        "result=ml.predict([[1,1],[2,0]])\n",
        "print(result)"
      ]
    }
  ]
}